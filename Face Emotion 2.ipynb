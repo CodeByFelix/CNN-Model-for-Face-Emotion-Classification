{
 "cells": [
  {
   "cell_type": "code",
   "execution_count": 1,
   "id": "d8e2fdb0-f0d6-4c72-94d1-a54858d6762a",
   "metadata": {},
   "outputs": [],
   "source": [
    "import cv2\n",
    "import numpy as np\n",
    "import os\n",
    "import matplotlib.pyplot as plt\n",
    "import tensorflow as tf"
   ]
  },
  {
   "cell_type": "markdown",
   "id": "5f4e4f97-3998-49a9-9c88-acc67babbf7d",
   "metadata": {},
   "source": [
    "## Loading Train Data"
   ]
  },
  {
   "cell_type": "code",
   "execution_count": 2,
   "id": "f4cfc345-90a6-4c20-9c66-bd92ce1a6a7f",
   "metadata": {},
   "outputs": [
    {
     "name": "stdout",
     "output_type": "stream",
     "text": [
      "Found 29280 files belonging to 7 classes.\n"
     ]
    }
   ],
   "source": [
    "train_dataset = tf.keras.utils.image_dataset_from_directory(\"Data Set/Train\", label_mode='int', color_mode='grayscale', batch_size=32, image_size=(48,48), shuffle=True)"
   ]
  },
  {
   "cell_type": "code",
   "execution_count": 3,
   "id": "4551b18a-397d-46ce-9224-ae4c8b7f2433",
   "metadata": {},
   "outputs": [],
   "source": [
    "train_dataset = train_dataset.map(lambda x, y: (x/255.0, y))"
   ]
  },
  {
   "cell_type": "markdown",
   "id": "0af94fb1-3505-468b-8682-5e5fadff5a60",
   "metadata": {},
   "source": [
    "## Loading Test Data"
   ]
  },
  {
   "cell_type": "code",
   "execution_count": 4,
   "id": "c9bf198d-9525-45d7-a1c2-73478cffd6b9",
   "metadata": {},
   "outputs": [
    {
     "name": "stdout",
     "output_type": "stream",
     "text": [
      "Found 4271 files belonging to 7 classes.\n"
     ]
    }
   ],
   "source": [
    "test_dataset = tf.keras.utils.image_dataset_from_directory(\"Data Set/Test\", label_mode='int', color_mode='grayscale', batch_size=32, image_size=(48,48), shuffle=True)"
   ]
  },
  {
   "cell_type": "code",
   "execution_count": 5,
   "id": "6e6f96e9-ba4a-483d-989a-d2de141ccad4",
   "metadata": {},
   "outputs": [],
   "source": [
    "test_dataset = test_dataset.map(lambda x, y: (x/255.0, y))"
   ]
  },
  {
   "cell_type": "markdown",
   "id": "81add202-1898-427f-a53b-11bea947ac7d",
   "metadata": {},
   "source": [
    "## Building the Model"
   ]
  },
  {
   "cell_type": "code",
   "execution_count": 6,
   "id": "63543343-73ce-4963-9814-c065a0910a8a",
   "metadata": {},
   "outputs": [],
   "source": [
    "from tensorflow.keras.models import Sequential\n",
    "from tensorflow.keras.layers import Conv2D, MaxPooling2D, Dense, Flatten, GlobalAveragePooling2D, Activation, Dropout, Input"
   ]
  },
  {
   "cell_type": "code",
   "execution_count": 7,
   "id": "2efa27be-20b6-4e10-aebc-327fe8cfbd57",
   "metadata": {},
   "outputs": [],
   "source": [
    "model = Sequential()\n",
    "\n",
    "model.add(Input(shape=(48, 48, 1)))\n",
    "\n",
    "model.add (Conv2D(8, (3,3), 1, activation='relu'))\n",
    "model.add (MaxPooling2D())\n",
    "\n",
    "model.add (Conv2D(16, (3,3), 1, activation='relu'))\n",
    "model.add (MaxPooling2D())\n",
    "\n",
    "model.add (Conv2D(8, (3,3), 1, activation='relu'))\n",
    "model.add (MaxPooling2D())\n",
    "\n",
    "model.add (Flatten())\n",
    "\n",
    "model.add (Dense (128, activation='relu'))\n",
    "model.add (Dropout(0.2))\n",
    "\n",
    "model.add (Dense (64, activation='relu'))\n",
    "model.add (Dropout (0.2))\n",
    "\n",
    "model.add (Dense (7, activation='softmax'))"
   ]
  },
  {
   "cell_type": "code",
   "execution_count": 8,
   "id": "408acaaf-ca24-45d5-a58b-1f189ee9dd5d",
   "metadata": {},
   "outputs": [],
   "source": [
    "model.compile (loss='sparse_categorical_crossentropy', optimizer='adam', metrics=['accuracy'])"
   ]
  },
  {
   "cell_type": "code",
   "execution_count": 9,
   "id": "4c7ae368-d1d7-4382-bc1c-72929a9e7ec3",
   "metadata": {},
   "outputs": [
    {
     "data": {
      "text/html": [
       "<pre style=\"white-space:pre;overflow-x:auto;line-height:normal;font-family:Menlo,'DejaVu Sans Mono',consolas,'Courier New',monospace\"><span style=\"font-weight: bold\">Model: \"sequential\"</span>\n",
       "</pre>\n"
      ],
      "text/plain": [
       "\u001b[1mModel: \"sequential\"\u001b[0m\n"
      ]
     },
     "metadata": {},
     "output_type": "display_data"
    },
    {
     "data": {
      "text/html": [
       "<pre style=\"white-space:pre;overflow-x:auto;line-height:normal;font-family:Menlo,'DejaVu Sans Mono',consolas,'Courier New',monospace\">┏━━━━━━━━━━━━━━━━━━━━━━━━━━━━━━━━━━━━━━┳━━━━━━━━━━━━━━━━━━━━━━━━━━━━━┳━━━━━━━━━━━━━━━━━┓\n",
       "┃<span style=\"font-weight: bold\"> Layer (type)                         </span>┃<span style=\"font-weight: bold\"> Output Shape                </span>┃<span style=\"font-weight: bold\">         Param # </span>┃\n",
       "┡━━━━━━━━━━━━━━━━━━━━━━━━━━━━━━━━━━━━━━╇━━━━━━━━━━━━━━━━━━━━━━━━━━━━━╇━━━━━━━━━━━━━━━━━┩\n",
       "│ conv2d (<span style=\"color: #0087ff; text-decoration-color: #0087ff\">Conv2D</span>)                      │ (<span style=\"color: #00d7ff; text-decoration-color: #00d7ff\">None</span>, <span style=\"color: #00af00; text-decoration-color: #00af00\">46</span>, <span style=\"color: #00af00; text-decoration-color: #00af00\">46</span>, <span style=\"color: #00af00; text-decoration-color: #00af00\">8</span>)           │              <span style=\"color: #00af00; text-decoration-color: #00af00\">80</span> │\n",
       "├──────────────────────────────────────┼─────────────────────────────┼─────────────────┤\n",
       "│ max_pooling2d (<span style=\"color: #0087ff; text-decoration-color: #0087ff\">MaxPooling2D</span>)         │ (<span style=\"color: #00d7ff; text-decoration-color: #00d7ff\">None</span>, <span style=\"color: #00af00; text-decoration-color: #00af00\">23</span>, <span style=\"color: #00af00; text-decoration-color: #00af00\">23</span>, <span style=\"color: #00af00; text-decoration-color: #00af00\">8</span>)           │               <span style=\"color: #00af00; text-decoration-color: #00af00\">0</span> │\n",
       "├──────────────────────────────────────┼─────────────────────────────┼─────────────────┤\n",
       "│ conv2d_1 (<span style=\"color: #0087ff; text-decoration-color: #0087ff\">Conv2D</span>)                    │ (<span style=\"color: #00d7ff; text-decoration-color: #00d7ff\">None</span>, <span style=\"color: #00af00; text-decoration-color: #00af00\">21</span>, <span style=\"color: #00af00; text-decoration-color: #00af00\">21</span>, <span style=\"color: #00af00; text-decoration-color: #00af00\">16</span>)          │           <span style=\"color: #00af00; text-decoration-color: #00af00\">1,168</span> │\n",
       "├──────────────────────────────────────┼─────────────────────────────┼─────────────────┤\n",
       "│ max_pooling2d_1 (<span style=\"color: #0087ff; text-decoration-color: #0087ff\">MaxPooling2D</span>)       │ (<span style=\"color: #00d7ff; text-decoration-color: #00d7ff\">None</span>, <span style=\"color: #00af00; text-decoration-color: #00af00\">10</span>, <span style=\"color: #00af00; text-decoration-color: #00af00\">10</span>, <span style=\"color: #00af00; text-decoration-color: #00af00\">16</span>)          │               <span style=\"color: #00af00; text-decoration-color: #00af00\">0</span> │\n",
       "├──────────────────────────────────────┼─────────────────────────────┼─────────────────┤\n",
       "│ conv2d_2 (<span style=\"color: #0087ff; text-decoration-color: #0087ff\">Conv2D</span>)                    │ (<span style=\"color: #00d7ff; text-decoration-color: #00d7ff\">None</span>, <span style=\"color: #00af00; text-decoration-color: #00af00\">8</span>, <span style=\"color: #00af00; text-decoration-color: #00af00\">8</span>, <span style=\"color: #00af00; text-decoration-color: #00af00\">8</span>)             │           <span style=\"color: #00af00; text-decoration-color: #00af00\">1,160</span> │\n",
       "├──────────────────────────────────────┼─────────────────────────────┼─────────────────┤\n",
       "│ max_pooling2d_2 (<span style=\"color: #0087ff; text-decoration-color: #0087ff\">MaxPooling2D</span>)       │ (<span style=\"color: #00d7ff; text-decoration-color: #00d7ff\">None</span>, <span style=\"color: #00af00; text-decoration-color: #00af00\">4</span>, <span style=\"color: #00af00; text-decoration-color: #00af00\">4</span>, <span style=\"color: #00af00; text-decoration-color: #00af00\">8</span>)             │               <span style=\"color: #00af00; text-decoration-color: #00af00\">0</span> │\n",
       "├──────────────────────────────────────┼─────────────────────────────┼─────────────────┤\n",
       "│ flatten (<span style=\"color: #0087ff; text-decoration-color: #0087ff\">Flatten</span>)                    │ (<span style=\"color: #00d7ff; text-decoration-color: #00d7ff\">None</span>, <span style=\"color: #00af00; text-decoration-color: #00af00\">128</span>)                 │               <span style=\"color: #00af00; text-decoration-color: #00af00\">0</span> │\n",
       "├──────────────────────────────────────┼─────────────────────────────┼─────────────────┤\n",
       "│ dense (<span style=\"color: #0087ff; text-decoration-color: #0087ff\">Dense</span>)                        │ (<span style=\"color: #00d7ff; text-decoration-color: #00d7ff\">None</span>, <span style=\"color: #00af00; text-decoration-color: #00af00\">128</span>)                 │          <span style=\"color: #00af00; text-decoration-color: #00af00\">16,512</span> │\n",
       "├──────────────────────────────────────┼─────────────────────────────┼─────────────────┤\n",
       "│ dropout (<span style=\"color: #0087ff; text-decoration-color: #0087ff\">Dropout</span>)                    │ (<span style=\"color: #00d7ff; text-decoration-color: #00d7ff\">None</span>, <span style=\"color: #00af00; text-decoration-color: #00af00\">128</span>)                 │               <span style=\"color: #00af00; text-decoration-color: #00af00\">0</span> │\n",
       "├──────────────────────────────────────┼─────────────────────────────┼─────────────────┤\n",
       "│ dense_1 (<span style=\"color: #0087ff; text-decoration-color: #0087ff\">Dense</span>)                      │ (<span style=\"color: #00d7ff; text-decoration-color: #00d7ff\">None</span>, <span style=\"color: #00af00; text-decoration-color: #00af00\">64</span>)                  │           <span style=\"color: #00af00; text-decoration-color: #00af00\">8,256</span> │\n",
       "├──────────────────────────────────────┼─────────────────────────────┼─────────────────┤\n",
       "│ dropout_1 (<span style=\"color: #0087ff; text-decoration-color: #0087ff\">Dropout</span>)                  │ (<span style=\"color: #00d7ff; text-decoration-color: #00d7ff\">None</span>, <span style=\"color: #00af00; text-decoration-color: #00af00\">64</span>)                  │               <span style=\"color: #00af00; text-decoration-color: #00af00\">0</span> │\n",
       "├──────────────────────────────────────┼─────────────────────────────┼─────────────────┤\n",
       "│ dense_2 (<span style=\"color: #0087ff; text-decoration-color: #0087ff\">Dense</span>)                      │ (<span style=\"color: #00d7ff; text-decoration-color: #00d7ff\">None</span>, <span style=\"color: #00af00; text-decoration-color: #00af00\">7</span>)                   │             <span style=\"color: #00af00; text-decoration-color: #00af00\">455</span> │\n",
       "└──────────────────────────────────────┴─────────────────────────────┴─────────────────┘\n",
       "</pre>\n"
      ],
      "text/plain": [
       "┏━━━━━━━━━━━━━━━━━━━━━━━━━━━━━━━━━━━━━━┳━━━━━━━━━━━━━━━━━━━━━━━━━━━━━┳━━━━━━━━━━━━━━━━━┓\n",
       "┃\u001b[1m \u001b[0m\u001b[1mLayer (type)                        \u001b[0m\u001b[1m \u001b[0m┃\u001b[1m \u001b[0m\u001b[1mOutput Shape               \u001b[0m\u001b[1m \u001b[0m┃\u001b[1m \u001b[0m\u001b[1m        Param #\u001b[0m\u001b[1m \u001b[0m┃\n",
       "┡━━━━━━━━━━━━━━━━━━━━━━━━━━━━━━━━━━━━━━╇━━━━━━━━━━━━━━━━━━━━━━━━━━━━━╇━━━━━━━━━━━━━━━━━┩\n",
       "│ conv2d (\u001b[38;5;33mConv2D\u001b[0m)                      │ (\u001b[38;5;45mNone\u001b[0m, \u001b[38;5;34m46\u001b[0m, \u001b[38;5;34m46\u001b[0m, \u001b[38;5;34m8\u001b[0m)           │              \u001b[38;5;34m80\u001b[0m │\n",
       "├──────────────────────────────────────┼─────────────────────────────┼─────────────────┤\n",
       "│ max_pooling2d (\u001b[38;5;33mMaxPooling2D\u001b[0m)         │ (\u001b[38;5;45mNone\u001b[0m, \u001b[38;5;34m23\u001b[0m, \u001b[38;5;34m23\u001b[0m, \u001b[38;5;34m8\u001b[0m)           │               \u001b[38;5;34m0\u001b[0m │\n",
       "├──────────────────────────────────────┼─────────────────────────────┼─────────────────┤\n",
       "│ conv2d_1 (\u001b[38;5;33mConv2D\u001b[0m)                    │ (\u001b[38;5;45mNone\u001b[0m, \u001b[38;5;34m21\u001b[0m, \u001b[38;5;34m21\u001b[0m, \u001b[38;5;34m16\u001b[0m)          │           \u001b[38;5;34m1,168\u001b[0m │\n",
       "├──────────────────────────────────────┼─────────────────────────────┼─────────────────┤\n",
       "│ max_pooling2d_1 (\u001b[38;5;33mMaxPooling2D\u001b[0m)       │ (\u001b[38;5;45mNone\u001b[0m, \u001b[38;5;34m10\u001b[0m, \u001b[38;5;34m10\u001b[0m, \u001b[38;5;34m16\u001b[0m)          │               \u001b[38;5;34m0\u001b[0m │\n",
       "├──────────────────────────────────────┼─────────────────────────────┼─────────────────┤\n",
       "│ conv2d_2 (\u001b[38;5;33mConv2D\u001b[0m)                    │ (\u001b[38;5;45mNone\u001b[0m, \u001b[38;5;34m8\u001b[0m, \u001b[38;5;34m8\u001b[0m, \u001b[38;5;34m8\u001b[0m)             │           \u001b[38;5;34m1,160\u001b[0m │\n",
       "├──────────────────────────────────────┼─────────────────────────────┼─────────────────┤\n",
       "│ max_pooling2d_2 (\u001b[38;5;33mMaxPooling2D\u001b[0m)       │ (\u001b[38;5;45mNone\u001b[0m, \u001b[38;5;34m4\u001b[0m, \u001b[38;5;34m4\u001b[0m, \u001b[38;5;34m8\u001b[0m)             │               \u001b[38;5;34m0\u001b[0m │\n",
       "├──────────────────────────────────────┼─────────────────────────────┼─────────────────┤\n",
       "│ flatten (\u001b[38;5;33mFlatten\u001b[0m)                    │ (\u001b[38;5;45mNone\u001b[0m, \u001b[38;5;34m128\u001b[0m)                 │               \u001b[38;5;34m0\u001b[0m │\n",
       "├──────────────────────────────────────┼─────────────────────────────┼─────────────────┤\n",
       "│ dense (\u001b[38;5;33mDense\u001b[0m)                        │ (\u001b[38;5;45mNone\u001b[0m, \u001b[38;5;34m128\u001b[0m)                 │          \u001b[38;5;34m16,512\u001b[0m │\n",
       "├──────────────────────────────────────┼─────────────────────────────┼─────────────────┤\n",
       "│ dropout (\u001b[38;5;33mDropout\u001b[0m)                    │ (\u001b[38;5;45mNone\u001b[0m, \u001b[38;5;34m128\u001b[0m)                 │               \u001b[38;5;34m0\u001b[0m │\n",
       "├──────────────────────────────────────┼─────────────────────────────┼─────────────────┤\n",
       "│ dense_1 (\u001b[38;5;33mDense\u001b[0m)                      │ (\u001b[38;5;45mNone\u001b[0m, \u001b[38;5;34m64\u001b[0m)                  │           \u001b[38;5;34m8,256\u001b[0m │\n",
       "├──────────────────────────────────────┼─────────────────────────────┼─────────────────┤\n",
       "│ dropout_1 (\u001b[38;5;33mDropout\u001b[0m)                  │ (\u001b[38;5;45mNone\u001b[0m, \u001b[38;5;34m64\u001b[0m)                  │               \u001b[38;5;34m0\u001b[0m │\n",
       "├──────────────────────────────────────┼─────────────────────────────┼─────────────────┤\n",
       "│ dense_2 (\u001b[38;5;33mDense\u001b[0m)                      │ (\u001b[38;5;45mNone\u001b[0m, \u001b[38;5;34m7\u001b[0m)                   │             \u001b[38;5;34m455\u001b[0m │\n",
       "└──────────────────────────────────────┴─────────────────────────────┴─────────────────┘\n"
      ]
     },
     "metadata": {},
     "output_type": "display_data"
    },
    {
     "data": {
      "text/html": [
       "<pre style=\"white-space:pre;overflow-x:auto;line-height:normal;font-family:Menlo,'DejaVu Sans Mono',consolas,'Courier New',monospace\"><span style=\"font-weight: bold\"> Total params: </span><span style=\"color: #00af00; text-decoration-color: #00af00\">27,631</span> (107.93 KB)\n",
       "</pre>\n"
      ],
      "text/plain": [
       "\u001b[1m Total params: \u001b[0m\u001b[38;5;34m27,631\u001b[0m (107.93 KB)\n"
      ]
     },
     "metadata": {},
     "output_type": "display_data"
    },
    {
     "data": {
      "text/html": [
       "<pre style=\"white-space:pre;overflow-x:auto;line-height:normal;font-family:Menlo,'DejaVu Sans Mono',consolas,'Courier New',monospace\"><span style=\"font-weight: bold\"> Trainable params: </span><span style=\"color: #00af00; text-decoration-color: #00af00\">27,631</span> (107.93 KB)\n",
       "</pre>\n"
      ],
      "text/plain": [
       "\u001b[1m Trainable params: \u001b[0m\u001b[38;5;34m27,631\u001b[0m (107.93 KB)\n"
      ]
     },
     "metadata": {},
     "output_type": "display_data"
    },
    {
     "data": {
      "text/html": [
       "<pre style=\"white-space:pre;overflow-x:auto;line-height:normal;font-family:Menlo,'DejaVu Sans Mono',consolas,'Courier New',monospace\"><span style=\"font-weight: bold\"> Non-trainable params: </span><span style=\"color: #00af00; text-decoration-color: #00af00\">0</span> (0.00 B)\n",
       "</pre>\n"
      ],
      "text/plain": [
       "\u001b[1m Non-trainable params: \u001b[0m\u001b[38;5;34m0\u001b[0m (0.00 B)\n"
      ]
     },
     "metadata": {},
     "output_type": "display_data"
    }
   ],
   "source": [
    "model.summary()"
   ]
  },
  {
   "cell_type": "markdown",
   "id": "032caab5-7766-4859-b84c-4a69fd3bf0bd",
   "metadata": {},
   "source": [
    "## Training the Model"
   ]
  },
  {
   "cell_type": "code",
   "execution_count": 10,
   "id": "ce1a0b14-7f71-4d04-a906-841754139990",
   "metadata": {
    "scrolled": true
   },
   "outputs": [
    {
     "name": "stdout",
     "output_type": "stream",
     "text": [
      "Epoch 1/40\n",
      "\u001b[1m915/915\u001b[0m \u001b[32m━━━━━━━━━━━━━━━━━━━━\u001b[0m\u001b[37m\u001b[0m \u001b[1m28s\u001b[0m 26ms/step - accuracy: 0.2256 - loss: 1.8608 - val_accuracy: 0.3571 - val_loss: 1.6683\n",
      "Epoch 2/40\n",
      "\u001b[1m915/915\u001b[0m \u001b[32m━━━━━━━━━━━━━━━━━━━━\u001b[0m\u001b[37m\u001b[0m \u001b[1m41s\u001b[0m 25ms/step - accuracy: 0.3905 - loss: 1.6025 - val_accuracy: 0.3772 - val_loss: 1.6099\n",
      "Epoch 3/40\n",
      "\u001b[1m915/915\u001b[0m \u001b[32m━━━━━━━━━━━━━━━━━━━━\u001b[0m\u001b[37m\u001b[0m \u001b[1m43s\u001b[0m 27ms/step - accuracy: 0.4257 - loss: 1.5173 - val_accuracy: 0.3852 - val_loss: 1.5878\n",
      "Epoch 4/40\n",
      "\u001b[1m915/915\u001b[0m \u001b[32m━━━━━━━━━━━━━━━━━━━━\u001b[0m\u001b[37m\u001b[0m \u001b[1m24s\u001b[0m 26ms/step - accuracy: 0.4514 - loss: 1.4586 - val_accuracy: 0.4116 - val_loss: 1.5516\n",
      "Epoch 5/40\n",
      "\u001b[1m915/915\u001b[0m \u001b[32m━━━━━━━━━━━━━━━━━━━━\u001b[0m\u001b[37m\u001b[0m \u001b[1m23s\u001b[0m 26ms/step - accuracy: 0.4646 - loss: 1.4206 - val_accuracy: 0.4238 - val_loss: 1.5005\n",
      "Epoch 6/40\n",
      "\u001b[1m915/915\u001b[0m \u001b[32m━━━━━━━━━━━━━━━━━━━━\u001b[0m\u001b[37m\u001b[0m \u001b[1m42s\u001b[0m 27ms/step - accuracy: 0.4818 - loss: 1.3778 - val_accuracy: 0.4238 - val_loss: 1.4878\n",
      "Epoch 7/40\n",
      "\u001b[1m915/915\u001b[0m \u001b[32m━━━━━━━━━━━━━━━━━━━━\u001b[0m\u001b[37m\u001b[0m \u001b[1m25s\u001b[0m 27ms/step - accuracy: 0.4922 - loss: 1.3486 - val_accuracy: 0.4327 - val_loss: 1.4844\n",
      "Epoch 8/40\n",
      "\u001b[1m915/915\u001b[0m \u001b[32m━━━━━━━━━━━━━━━━━━━━\u001b[0m\u001b[37m\u001b[0m \u001b[1m42s\u001b[0m 27ms/step - accuracy: 0.4976 - loss: 1.3274 - val_accuracy: 0.4385 - val_loss: 1.4654\n",
      "Epoch 9/40\n",
      "\u001b[1m915/915\u001b[0m \u001b[32m━━━━━━━━━━━━━━━━━━━━\u001b[0m\u001b[37m\u001b[0m \u001b[1m25s\u001b[0m 27ms/step - accuracy: 0.5061 - loss: 1.3053 - val_accuracy: 0.4367 - val_loss: 1.4718\n",
      "Epoch 10/40\n",
      "\u001b[1m915/915\u001b[0m \u001b[32m━━━━━━━━━━━━━━━━━━━━\u001b[0m\u001b[37m\u001b[0m \u001b[1m24s\u001b[0m 26ms/step - accuracy: 0.5150 - loss: 1.2808 - val_accuracy: 0.4411 - val_loss: 1.4769\n",
      "Epoch 11/40\n",
      "\u001b[1m915/915\u001b[0m \u001b[32m━━━━━━━━━━━━━━━━━━━━\u001b[0m\u001b[37m\u001b[0m \u001b[1m24s\u001b[0m 26ms/step - accuracy: 0.5222 - loss: 1.2632 - val_accuracy: 0.4332 - val_loss: 1.5028\n",
      "Epoch 12/40\n",
      "\u001b[1m915/915\u001b[0m \u001b[32m━━━━━━━━━━━━━━━━━━━━\u001b[0m\u001b[37m\u001b[0m \u001b[1m43s\u001b[0m 27ms/step - accuracy: 0.5266 - loss: 1.2529 - val_accuracy: 0.4453 - val_loss: 1.4720\n",
      "Epoch 13/40\n",
      "\u001b[1m915/915\u001b[0m \u001b[32m━━━━━━━━━━━━━━━━━━━━\u001b[0m\u001b[37m\u001b[0m \u001b[1m25s\u001b[0m 27ms/step - accuracy: 0.5314 - loss: 1.2312 - val_accuracy: 0.4425 - val_loss: 1.5054\n",
      "Epoch 14/40\n",
      "\u001b[1m915/915\u001b[0m \u001b[32m━━━━━━━━━━━━━━━━━━━━\u001b[0m\u001b[37m\u001b[0m \u001b[1m41s\u001b[0m 27ms/step - accuracy: 0.5375 - loss: 1.2220 - val_accuracy: 0.4528 - val_loss: 1.4401\n",
      "Epoch 15/40\n",
      "\u001b[1m915/915\u001b[0m \u001b[32m━━━━━━━━━━━━━━━━━━━━\u001b[0m\u001b[37m\u001b[0m \u001b[1m41s\u001b[0m 27ms/step - accuracy: 0.5473 - loss: 1.2074 - val_accuracy: 0.4535 - val_loss: 1.4446\n",
      "Epoch 16/40\n",
      "\u001b[1m915/915\u001b[0m \u001b[32m━━━━━━━━━━━━━━━━━━━━\u001b[0m\u001b[37m\u001b[0m \u001b[1m24s\u001b[0m 26ms/step - accuracy: 0.5478 - loss: 1.1952 - val_accuracy: 0.4549 - val_loss: 1.4377\n",
      "Epoch 17/40\n",
      "\u001b[1m915/915\u001b[0m \u001b[32m━━━━━━━━━━━━━━━━━━━━\u001b[0m\u001b[37m\u001b[0m \u001b[1m42s\u001b[0m 27ms/step - accuracy: 0.5500 - loss: 1.1904 - val_accuracy: 0.4613 - val_loss: 1.4182\n",
      "Epoch 18/40\n",
      "\u001b[1m915/915\u001b[0m \u001b[32m━━━━━━━━━━━━━━━━━━━━\u001b[0m\u001b[37m\u001b[0m \u001b[1m25s\u001b[0m 28ms/step - accuracy: 0.5596 - loss: 1.1746 - val_accuracy: 0.4673 - val_loss: 1.4301\n",
      "Epoch 19/40\n",
      "\u001b[1m915/915\u001b[0m \u001b[32m━━━━━━━━━━━━━━━━━━━━\u001b[0m\u001b[37m\u001b[0m \u001b[1m37s\u001b[0m 23ms/step - accuracy: 0.5600 - loss: 1.1645 - val_accuracy: 0.4589 - val_loss: 1.4886\n",
      "Epoch 20/40\n",
      "\u001b[1m915/915\u001b[0m \u001b[32m━━━━━━━━━━━━━━━━━━━━\u001b[0m\u001b[37m\u001b[0m \u001b[1m19s\u001b[0m 21ms/step - accuracy: 0.5654 - loss: 1.1586 - val_accuracy: 0.4624 - val_loss: 1.4549\n",
      "Epoch 21/40\n",
      "\u001b[1m915/915\u001b[0m \u001b[32m━━━━━━━━━━━━━━━━━━━━\u001b[0m\u001b[37m\u001b[0m \u001b[1m18s\u001b[0m 20ms/step - accuracy: 0.5614 - loss: 1.1462 - val_accuracy: 0.4652 - val_loss: 1.4414\n",
      "Epoch 22/40\n",
      "\u001b[1m915/915\u001b[0m \u001b[32m━━━━━━━━━━━━━━━━━━━━\u001b[0m\u001b[37m\u001b[0m \u001b[1m18s\u001b[0m 20ms/step - accuracy: 0.5686 - loss: 1.1364 - val_accuracy: 0.4463 - val_loss: 1.5355\n",
      "Epoch 23/40\n",
      "\u001b[1m915/915\u001b[0m \u001b[32m━━━━━━━━━━━━━━━━━━━━\u001b[0m\u001b[37m\u001b[0m \u001b[1m22s\u001b[0m 21ms/step - accuracy: 0.5716 - loss: 1.1278 - val_accuracy: 0.4692 - val_loss: 1.4523\n",
      "Epoch 24/40\n",
      "\u001b[1m915/915\u001b[0m \u001b[32m━━━━━━━━━━━━━━━━━━━━\u001b[0m\u001b[37m\u001b[0m \u001b[1m20s\u001b[0m 21ms/step - accuracy: 0.5784 - loss: 1.1101 - val_accuracy: 0.4589 - val_loss: 1.4520\n",
      "Epoch 25/40\n",
      "\u001b[1m915/915\u001b[0m \u001b[32m━━━━━━━━━━━━━━━━━━━━\u001b[0m\u001b[37m\u001b[0m \u001b[1m21s\u001b[0m 20ms/step - accuracy: 0.5847 - loss: 1.0898 - val_accuracy: 0.4680 - val_loss: 1.4371\n",
      "Epoch 30/40\n",
      "\u001b[1m915/915\u001b[0m \u001b[32m━━━━━━━━━━━━━━━━━━━━\u001b[0m\u001b[37m\u001b[0m \u001b[1m21s\u001b[0m 20ms/step - accuracy: 0.5823 - loss: 1.0816 - val_accuracy: 0.4666 - val_loss: 1.4410\n",
      "Epoch 31/40\n",
      "\u001b[1m915/915\u001b[0m \u001b[32m━━━━━━━━━━━━━━━━━━━━\u001b[0m\u001b[37m\u001b[0m \u001b[1m19s\u001b[0m 21ms/step - accuracy: 0.5946 - loss: 1.0738 - val_accuracy: 0.4746 - val_loss: 1.4181\n",
      "Epoch 32/40\n",
      "\u001b[1m915/915\u001b[0m \u001b[32m━━━━━━━━━━━━━━━━━━━━\u001b[0m\u001b[37m\u001b[0m \u001b[1m21s\u001b[0m 21ms/step - accuracy: 0.5918 - loss: 1.0724 - val_accuracy: 0.4650 - val_loss: 1.4791\n",
      "Epoch 33/40\n",
      "\u001b[1m915/915\u001b[0m \u001b[32m━━━━━━━━━━━━━━━━━━━━\u001b[0m\u001b[37m\u001b[0m \u001b[1m21s\u001b[0m 21ms/step - accuracy: 0.5926 - loss: 1.0737 - val_accuracy: 0.4657 - val_loss: 1.4280\n",
      "Epoch 34/40\n",
      "\u001b[1m915/915\u001b[0m \u001b[32m━━━━━━━━━━━━━━━━━━━━\u001b[0m\u001b[37m\u001b[0m \u001b[1m21s\u001b[0m 21ms/step - accuracy: 0.6074 - loss: 1.0422 - val_accuracy: 0.4659 - val_loss: 1.4648\n",
      "Epoch 40/40\n",
      "\u001b[1m915/915\u001b[0m \u001b[32m━━━━━━━━━━━━━━━━━━━━\u001b[0m\u001b[37m\u001b[0m \u001b[1m19s\u001b[0m 20ms/step - accuracy: 0.6053 - loss: 1.0408 - val_accuracy: 0.4624 - val_loss: 1.4860\n"
     ]
    }
   ],
   "source": [
    "history = model.fit (train_dataset, epochs=40, validation_data=test_dataset, batch_size=32, shuffle=True)"
   ]
  },
  {
   "cell_type": "code",
   "execution_count": 14,
   "id": "deb87132-9f26-49a1-b1a8-123a3942ab4b",
   "metadata": {
    "scrolled": true
   },
   "outputs": [
    {
     "data": {
      "text/plain": [
       "[0.3570592403411865,\n",
       " 0.3771950304508209,\n",
       " 0.38515570759773254,\n",
       " 0.41161319613456726,\n",
       " 0.4237883388996124,\n",
       " 0.4237883388996124,\n",
       " 0.4326855540275574,\n",
       " 0.4385389983654022,\n",
       " 0.4366658926010132,\n",
       " 0.44111448526382446,\n",
       " 0.43315383791923523,\n",
       " 0.445328950881958,\n",
       " 0.44251930713653564,\n",
       " 0.4528213441371918,\n",
       " 0.45352375507354736,\n",
       " 0.45492857694625854,\n",
       " 0.46125030517578125,\n",
       " 0.46733784675598145,\n",
       " 0.45890891551971436,\n",
       " 0.4624209702014923,\n",
       " 0.4652306139469147,\n",
       " 0.4462655186653137,\n",
       " 0.4692109525203705,\n",
       " 0.45890891551971436,\n",
       " 0.45024585723876953,\n",
       " 0.4640599489212036,\n",
       " 0.4692109525203705,\n",
       " 0.4617185592651367,\n",
       " 0.46804025769233704,\n",
       " 0.46663543581962585,\n",
       " 0.4745961129665375,\n",
       " 0.46499648690223694,\n",
       " 0.46569889783859253,\n",
       " 0.4621868431568146,\n",
       " 0.45258721709251404,\n",
       " 0.4710840582847595,\n",
       " 0.4593771994113922,\n",
       " 0.47225475311279297,\n",
       " 0.46593302488327026,\n",
       " 0.4624209702014923]"
      ]
     },
     "execution_count": 14,
     "metadata": {},
     "output_type": "execute_result"
    }
   ],
   "source": [
    "history.history['val_accuracy']"
   ]
  },
  {
   "cell_type": "markdown",
   "id": "d116b0b5-2fa8-4b14-98b1-3cc1acec30bd",
   "metadata": {},
   "source": [
    "## Ploting Training history"
   ]
  },
  {
   "cell_type": "code",
   "execution_count": 16,
   "id": "625dcb75-aaff-4b1d-982d-189536459956",
   "metadata": {},
   "outputs": [],
   "source": [
    "epochs = list (range(40))\n",
    "\n",
    "acc = history.history['accuracy']\n",
    "loss = history.history['loss']\n",
    "val_acc = history.history['val_accuracy']\n",
    "val_loss = history.history['val_loss']"
   ]
  },
  {
   "cell_type": "code",
   "execution_count": 17,
   "id": "abdd5569-d81b-4a7e-a6f7-1cf918d56870",
   "metadata": {},
   "outputs": [
    {
     "data": {
      "image/png": "[encoded data removed]",
      "text/plain": [
       "<Figure size 640x480 with 1 Axes>"
      ]
     },
     "metadata": {},
     "output_type": "display_data"
    }
   ],
   "source": [
    "plt.plot(epochs, acc, label='accuracy')\n",
    "plt.plot (epochs, val_acc, label='val_accuracy')\n",
    "plt.xlabel ('epochs')\n",
    "plt.ylabel ('accuracy')\n",
    "plt.legend()\n",
    "plt.show()"
   ]
  },
  {
   "cell_type": "code",
   "execution_count": 18,
   "id": "df4c1c59-4cfb-4d31-8884-6d6e36d76ca8",
   "metadata": {},
   "outputs": [
    {
     "data": {
      "image/png": "[encoded data removed]",
      "text/plain": [
       "<Figure size 640x480 with 1 Axes>"
      ]
     },
     "metadata": {},
     "output_type": "display_data"
    }
   ],
   "source": [
    "plt.plot(epochs, loss, label='loss')\n",
    "plt.plot (epochs, val_loss, label='val_loss')\n",
    "plt.xlabel ('epochs')\n",
    "plt.ylabel ('loss')\n",
    "plt.legend()\n",
    "plt.show()"
   ]
  },
  {
   "cell_type": "markdown",
   "id": "45161a51-6cc1-43cd-9569-0fc961fdeb57",
   "metadata": {},
   "source": [
    "## Testing Model with test data"
   ]
  },
  {
   "cell_type": "code",
   "execution_count": 38,
   "id": "dbc8fcd2-ec71-4728-976d-e9ab1cb21301",
   "metadata": {},
   "outputs": [],
   "source": [
    "def readImages (path):\n",
    "    folders = ['angry', 'disgust', 'fear', 'happy', 'neutral', 'sad', 'surprise']\n",
    "    imageData = []\n",
    "    imageLabel = []\n",
    "    for folder in folders:\n",
    "        folderPath = os.path.join (path, folder)\n",
    "        for img in os.listdir(folderPath):\n",
    "            imagePath = os.path.join (folderPath, img)\n",
    "            image = cv2.imread (imagePath)\n",
    "            \n",
    "            image = cv2.cvtColor (image, cv2.COLOR_BGR2GRAY)\n",
    "            image = np.reshape(image, (48, 48, 1))\n",
    "            imageData.append (image)\n",
    "            imageLabel.append(folders.index(folder))\n",
    "    \n",
    "    return imageData, imageLabel"
   ]
  },
  {
   "cell_type": "code",
   "execution_count": 39,
   "id": "a9ba280f-70e2-4f1e-a14b-36c9ef5a121c",
   "metadata": {},
   "outputs": [],
   "source": [
    "path = \"Data Set/Test\"\n",
    "\n",
    "testData, testLabel = readImages (path)"
   ]
  },
  {
   "cell_type": "code",
   "execution_count": 40,
   "id": "5a4f6181-d286-4958-8259-6758cd5d6a4c",
   "metadata": {},
   "outputs": [
    {
     "data": {
      "text/plain": [
       "4271"
      ]
     },
     "execution_count": 40,
     "metadata": {},
     "output_type": "execute_result"
    }
   ],
   "source": [
    "len(testData)"
   ]
  },
  {
   "cell_type": "code",
   "execution_count": 41,
   "id": "fbde7dce-01d0-4952-80e6-cb0e28697321",
   "metadata": {},
   "outputs": [
    {
     "data": {
      "text/plain": [
       "(48, 48, 1)"
      ]
     },
     "execution_count": 41,
     "metadata": {},
     "output_type": "execute_result"
    }
   ],
   "source": [
    "testData[0].shape"
   ]
  },
  {
   "cell_type": "code",
   "execution_count": 42,
   "id": "fe494a85-2049-41d5-ba18-1f02109d4404",
   "metadata": {},
   "outputs": [],
   "source": [
    "x_test = np.array(testData)"
   ]
  },
  {
   "cell_type": "code",
   "execution_count": 43,
   "id": "ff199b1d-1f08-49ba-b298-e024bc97f555",
   "metadata": {},
   "outputs": [
    {
     "data": {
      "text/plain": [
       "dtype('uint8')"
      ]
     },
     "execution_count": 43,
     "metadata": {},
     "output_type": "execute_result"
    }
   ],
   "source": [
    "x_test.dtype"
   ]
  },
  {
   "cell_type": "code",
   "execution_count": 44,
   "id": "3848462d-964d-49c6-8cf5-ec079109c6ff",
   "metadata": {},
   "outputs": [],
   "source": [
    "x_test = x_test.astype('float32')"
   ]
  },
  {
   "cell_type": "code",
   "execution_count": 45,
   "id": "49b15da5-086c-4f64-9e66-ce4c8f49a1fd",
   "metadata": {},
   "outputs": [
    {
     "data": {
      "text/plain": [
       "dtype('float32')"
      ]
     },
     "execution_count": 45,
     "metadata": {},
     "output_type": "execute_result"
    }
   ],
   "source": [
    "x_test.dtype"
   ]
  },
  {
   "cell_type": "code",
   "execution_count": 46,
   "id": "9e2529fd-7387-459b-bcf1-03afbdcc07ff",
   "metadata": {},
   "outputs": [
    {
     "data": {
      "text/plain": [
       "(4271, 48, 48, 1)"
      ]
     },
     "execution_count": 46,
     "metadata": {},
     "output_type": "execute_result"
    }
   ],
   "source": [
    "x_test.shape"
   ]
  },
  {
   "cell_type": "code",
   "execution_count": 47,
   "id": "76d4b1c4-9a16-4703-bb6e-77daa3800968",
   "metadata": {},
   "outputs": [],
   "source": [
    "x_test = x_test/255.0"
   ]
  },
  {
   "cell_type": "code",
   "execution_count": 48,
   "id": "bf4eedf7-aed0-46a1-ad43-21176367d2d1",
   "metadata": {},
   "outputs": [
    {
     "name": "stdout",
     "output_type": "stream",
     "text": [
      "\u001b[1m134/134\u001b[0m \u001b[32m━━━━━━━━━━━━━━━━━━━━\u001b[0m\u001b[37m\u001b[0m \u001b[1m3s\u001b[0m 11ms/step\n"
     ]
    }
   ],
   "source": [
    "y_pred = model.predict(x_test)"
   ]
  },
  {
   "cell_type": "code",
   "execution_count": 49,
   "id": "a702638b-8b63-445d-83a5-f342a2cd6c59",
   "metadata": {
    "scrolled": true
   },
   "outputs": [
    {
     "name": "stdout",
     "output_type": "stream",
     "text": [
      "[4, 5, 5, 3, 0, 5, 4, 5, 4, 0, 1, 0, 0, 5, 4, 0, 5, 4, 5, 5, 0, 0, 1, 5, 4, 2, 2, 5, 5, 0, 0, 5, 2, 0, 4, 0, 5, 3, 2, 4, 1, 4, 0, 2, 2, 0, 4, 5, 4, 0, 5, 3, 0, 0, 0, 0, 3, 3, 3, 4, 5, 5, 2, 0, 6, 5, 0, 5, 5, 2, 0, 2, 2, 0, 0, 1, 5, 0, 5, 0, 6, 0, 0, 0, 0, 4, 0, 0, 5, 4, 0, 4, 4, 0, 0, 0, 0, 0, 0, 3, 0, 2, 0, 0, 1, 5, 3, 2, 6, 4, 3, 2, 5, 0, 4, 0, 4, 2, 3, 0, 5, 0, 0, 5, 4, 5, 5, 4, 0, 4, 0, 0, 5, 5, 6, 5, 3, 5, 0, 4, 0, 4, 4, 5, 6, 6, 5, 4, 0, 0, 4, 0, 0, 5, 0, 0, 4, 0, 5, 0, 0, 0, 5, 5, 0, 0, 4, 0, 5, 0, 6, 0, 0, 1, 0, 1, 0, 2, 0, 6, 0, 0, 0, 0, 4, 0, 4, 5, 5, 4, 4, 3, 2, 0, 6, 3, 0, 2, 4, 0, 4, 3, 4, 5, 4, 4, 0, 0, 0, 4, 6, 4, 2, 4, 0, 0, 0, 0, 4, 0, 3, 0, 0, 5, 0, 2, 2, 4, 4, 0, 0, 3, 2, 0, 4, 3, 6, 3, 3, 4, 3, 2, 4, 0, 4, 4, 4, 2, 1, 1, 0, 3, 0, 5, 0, 0, 1, 0, 0, 5, 2, 2, 1, 4, 0, 0, 0, 0, 0, 5, 5, 0, 2, 2, 5, 0, 0, 0, 0, 2, 5, 4, 3, 1, 1, 5, 4, 3, 0, 5, 5, 0, 2, 4, 0, 0, 0, 5, 4, 4, 5, 0, 4, 3, 0, 0, 5, 4, 0, 0, 0, 4, 5, 0, 5, 0, 1, 3, 4, 0, 4, 3, 4, 4, 5, 5, 0, 5, 2, 0, 4, 0, 4, 0, 5, 4, 0, 0, 0, 4, 5, 4, 2, 0, 5, 5, 0, 5, 0, 0, 0, 4, 4, 5, 0, 0, 5, 1, 5, 0, 0, 3, 0, 0, 4, 0, 1, 4, 4, 2, 0, 6, 0, 0, 4, 0, 2, 4, 0, 5, 0, 0, 3, 4, 0, 4, 0, 3, 4, 2, 5, 4, 0, 5, 2, 4, 0, 2, 4, 0, 4, 0, 5, 0, 2, 0, 4, 4, 0, 0, 1, 4, 3, 0, 0, 0, 3, 5, 5, 5, 5, 4, 5, 0, 2, 2, 0, 2, 4, 0, 6, 0, 5, 2, 0, 0, 5, 5, 3, 5, 5, 5, 0, 0, 2, 3, 5, 0, 4, 3, 0, 0, 5, 2, 0, 3, 4, 3, 5, 5, 0, 0, 0, 5, 3, 5, 5, 0, 4, 0, 2, 0, 0, 3, 6, 0, 2, 0, 0, 2, 0, 0, 6, 4, 4, 5, 0, 0, 0, 1, 0, 1, 0, 1, 0, 5, 0, 0, 5, 5, 4, 5, 4, 5, 4, 5, 0, 4, 0, 0, 0, 0, 1, 0, 4, 0, 5, 4, 2, 5, 0, 2, 0, 0, 0, 0, 4, 0, 3, 0, 5, 5, 4, 4, 0, 0, 0, 5, 0, 0, 0, 4, 0, 0, 4, 0, 0, 4, 5, 5, 5, 1, 3, 0, 5, 2, 0, 5, 0, 0, 5, 3, 0, 4, 0, 1, 4, 5, 2, 5, 5, 0, 4, 0, 5, 4, 6, 5, 5, 5, 1, 4, 4, 0, 0, 5, 4, 2, 2, 5, 5, 5, 5, 4, 0, 1, 0, 4, 2, 4, 5, 0, 3, 5, 4, 0, 0, 5, 0, 4, 0, 5, 0, 5, 4, 2, 0, 2, 5, 4, 5, 5, 0, 0, 0, 0, 0, 0, 0, 4, 3, 5, 0, 0, 4, 0, 0, 0, 2, 5, 0, 2, 3, 5, 4, 4, 0, 0, 0, 0, 6, 4, 0, 0, 0, 5, 6, 0, 0, 2, 5, 4, 5, 3, 0, 4, 0, 3, 2, 4, 3, 0, 2, 2, 3, 2, 0, 4, 5, 5, 4, 2, 2, 4, 4, 0, 0, 5, 6, 5, 4, 0, 0, 0, 4, 4, 5, 4, 4, 2, 4, 6, 2, 1, 2, 0, 2, 0, 5, 0, 0, 4, 2, 0, 2, 4, 5, 0, 0, 4, 5, 5, 4, 0, 5, 0, 3, 0, 0, 5, 4, 3, 0, 3, 2, 0, 0, 4, 6, 0, 2, 5, 0, 0, 4, 0, 0, 3, 0, 5, 0, 0, 5, 4, 0, 0, 2, 2, 0, 0, 3, 2, 4, 0, 2, 2, 0, 6, 5, 0, 4, 0, 0, 0, 5, 3, 4, 5, 4, 0, 0, 0, 2, 4, 0, 0, 5, 0, 4, 0, 0, 4, 3, 0, 0, 2, 5, 2, 2, 4, 5, 0, 4, 2, 0, 0, 2, 5, 1, 5, 5, 0, 5, 0, 1, 4, 6, 3, 0, 2, 2, 2, 4, 2, 5, 0, 0, 2, 0, 4, 0, 0, 3, 0, 0, 5, 0, 1, 5, 4, 5, 5, 0, 5, 5, 4, 5, 0, 0, 3, 4, 4, 4, 0, 4, 5, 0, 5, 5, 0, 0, 0, 0, 0, 3, 6, 0, 6, 0, 5, 0, 5, 0, 0, 4, 4, 0, 0, 0, 0, 0, 2, 5, 0, 3, 5, 0, 4, 0, 1, 3, 0, 0, 3, 6, 5, 3, 4, 5, 4, 2, 4, 5, 5, 5, 2, 3, 4, 5, 2, 5, 2, 2, 0, 1, 5, 0, 0, 0, 1, 5, 2, 4, 0, 0, 0, 1, 6, 2, 2, 2, 4, 5, 2, 4, 5, 4, 0, 5, 0, 4, 1, 0, 0, 4, 2, 6, 5, 0, 4, 4, 6, 5, 4, 0, 4, 0, 4, 2, 2, 2, 2, 2, 2, 2, 2, 1, 1, 1, 1, 1, 1, 1, 1, 1, 1, 1, 1, 1, 1, 1, 1, 0, 0, 0, 0, 5, 5, 5, 5, 5, 5, 5, 5, 5, 5, 5, 5, 1, 1, 1, 1, 5, 5, 5, 5, 3, 3, 3, 3, 0, 0, 0, 0, 2, 2, 2, 2, 2, 2, 2, 2, 1, 1, 1, 1, 0, 0, 0, 0, 1, 1, 1, 1, 0, 0, 0, 0, 1, 1, 1, 1, 1, 1, 1, 1, 1, 1, 1, 1, 5, 5, 5, 5, 3, 3, 3, 3, 5, 5, 5, 5, 0, 0, 0, 0, 5, 5, 5, 5, 0, 0, 0, 0, 0, 0, 0, 0, 1, 1, 1, 1, 5, 5, 5, 5, 3, 3, 3, 3, 1, 1, 1, 1, 1, 1, 1, 1, 0, 0, 0, 0, 1, 1, 1, 1, 5, 5, 5, 5, 5, 5, 5, 5, 5, 5, 5, 5, 5, 5, 5, 5, 2, 2, 2, 2, 0, 0, 0, 0, 0, 0, 0, 0, 0, 0, 0, 0, 1, 1, 1, 1, 0, 0, 0, 0, 0, 0, 0, 0, 0, 0, 0, 0, 5, 5, 5, 5, 0, 0, 0, 0, 1, 1, 1, 1, 5, 5, 5, 5, 1, 1, 1, 1, 1, 1, 1, 1, 5, 5, 5, 5, 0, 0, 0, 0, 0, 0, 0, 0, 1, 1, 1, 1, 3, 3, 3, 3, 1, 1, 1, 1, 2, 2, 2, 2, 0, 0, 0, 0, 5, 5, 5, 5, 1, 1, 1, 1, 4, 4, 4, 4, 0, 0, 0, 0, 2, 2, 2, 2, 2, 2, 2, 2, 1, 1, 1, 1, 4, 4, 4, 4, 2, 2, 2, 2, 1, 1, 1, 1, 5, 5, 5, 5, 1, 1, 1, 1, 1, 1, 1, 1, 0, 0, 0, 0, 5, 5, 5, 5, 3, 3, 3, 3, 4, 4, 4, 4, 2, 2, 2, 2, 0, 0, 0, 0, 3, 3, 3, 3, 1, 1, 1, 1, 3, 3, 3, 3, 5, 5, 5, 5, 2, 2, 2, 2, 4, 4, 4, 4, 1, 1, 1, 1, 5, 5, 5, 5, 4, 4, 4, 4, 0, 0, 0, 0, 5, 5, 5, 5, 0, 0, 0, 0, 1, 1, 1, 1, 0, 0, 0, 0, 0, 0, 0, 0, 5, 5, 5, 5, 4, 4, 4, 4, 0, 0, 0, 0, 1, 1, 1, 1, 1, 1, 1, 1, 0, 0, 0, 0, 1, 1, 1, 1, 3, 3, 3, 3, 5, 5, 5, 5, 0, 0, 0, 0, 0, 0, 0, 0, 0, 0, 0, 0, 5, 5, 5, 5, 2, 2, 2, 2, 4, 2, 2, 4, 2, 5, 5, 5, 4, 0, 3, 3, 5, 5, 0, 0, 0, 2, 6, 6, 5, 6, 4, 4, 5, 2, 0, 5, 2, 2, 6, 2, 4, 4, 5, 3, 2, 6, 5, 5, 0, 2, 4, 3, 6, 4, 0, 2, 4, 5, 6, 2, 3, 2, 4, 6, 0, 3, 0, 5, 4, 4, 5, 2, 2, 6, 5, 3, 4, 3, 4, 5, 5, 4, 2, 2, 4, 3, 5, 3, 5, 1, 6, 6, 2, 4, 1, 2, 4, 5, 2, 5, 4, 4, 6, 0, 6, 2, 3, 2, 2, 5, 0, 4, 2, 5, 2, 5, 2, 0, 5, 4, 5, 5, 6, 4, 6, 2, 2, 5, 4, 5, 5, 4, 2, 4, 5, 5, 3, 2, 5, 0, 6, 3, 5, 6, 2, 4, 0, 2, 2, 2, 3, 4, 5, 0, 4, 4, 5, 6, 1, 0, 6, 6, 5, 5, 2, 2, 4, 6, 0, 6, 5, 1, 2, 2, 0, 5, 0, 2, 4, 5, 6, 2, 5, 2, 2, 5, 4, 4, 2, 3, 5, 2, 5, 2, 2, 6, 5, 4, 3, 5, 2, 2, 0, 5, 6, 0, 5, 4, 5, 6, 1, 5, 2, 5, 5, 5, 2, 2, 5, 3, 6, 4, 2, 4, 0, 2, 0, 5, 5, 5, 0, 6, 5, 0, 0, 5, 6, 2, 5, 0, 2, 3, 2, 5, 4, 2, 5, 5, 5, 0, 5, 5, 3, 5, 5, 4, 5, 1, 4, 2, 0, 6, 5, 2, 2, 6, 5, 0, 0, 4, 4, 2, 1, 2, 5, 0, 4, 0, 2, 2, 6, 3, 6, 2, 1, 5, 4, 2, 4, 3, 0, 4, 0, 6, 4, 5, 6, 5, 2, 4, 4, 2, 2, 2, 4, 5, 5, 3, 5, 3, 6, 3, 2, 4, 5, 5, 2, 5, 0, 2, 4, 6, 6, 5, 4, 4, 2, 4, 5, 5, 2, 5, 6, 3, 2, 6, 1, 0, 5, 5, 3, 0, 1, 4, 3, 5, 2, 2, 0, 5, 5, 0, 2, 3, 2, 2, 5, 6, 3, 2, 5, 0, 3, 2, 6, 4, 3, 2, 4, 4, 4, 4, 6, 5, 2, 4, 0, 2, 1, 2, 0, 6, 2, 2, 4, 3, 2, 2, 3, 3, 2, 4, 2, 6, 2, 2, 3, 0, 2, 4, 5, 4, 2, 6, 2, 4, 3, 5, 2, 6, 2, 2, 6, 5, 4, 4, 4, 3, 5, 2, 4, 2, 0, 6, 5, 5, 3, 4, 6, 4, 3, 5, 4, 2, 4, 2, 2, 5, 5, 2, 5, 2, 2, 6, 2, 5, 4, 6, 2, 1, 2, 5, 2, 2, 5, 4, 5, 6, 4, 0, 0, 0, 4, 4, 5, 2, 5, 5, 5, 6, 3, 0, 4, 4, 2, 5, 5, 0, 2, 2, 2, 1, 5, 5, 1, 4, 2, 4, 5, 5, 2, 4, 2, 5, 2, 6, 2, 4, 5, 2, 5, 4, 5, 6, 2, 2, 6, 4, 0, 3, 4, 2, 6, 2, 5, 5, 5, 4, 4, 2, 5, 5, 0, 2, 5, 5, 5, 5, 6, 4, 5, 3, 2, 5, 5, 2, 3, 3, 3, 2, 3, 3, 3, 3, 3, 6, 3, 3, 3, 3, 5, 3, 3, 3, 3, 3, 3, 3, 3, 3, 3, 3, 3, 3, 3, 3, 0, 5, 3, 3, 4, 4, 3, 5, 3, 2, 3, 3, 3, 3, 3, 3, 3, 3, 3, 6, 0, 6, 3, 3, 1, 5, 3, 3, 3, 3, 4, 3, 4, 0, 3, 1, 0, 4, 3, 4, 3, 3, 3, 3, 3, 3, 4, 3, 3, 3, 3, 3, 3, 3, 3, 3, 3, 4, 3, 3, 3, 3, 3, 3, 5, 3, 3, 3, 3, 3, 3, 3, 3, 5, 3, 3, 3, 3, 3, 6, 3, 0, 3, 4, 3, 5, 3, 3, 3, 0, 3, 3, 3, 5, 3, 4, 4, 3, 3, 3, 3, 3, 3, 6, 3, 4, 3, 3, 3, 4, 5, 3, 3, 3, 4, 3, 2, 3, 3, 3, 5, 4, 3, 3, 5, 3, 5, 3, 3, 3, 3, 4, 3, 3, 5, 3, 3, 3, 3, 3, 2, 3, 3, 3, 3, 0, 3, 3, 3, 3, 3, 3, 3, 3, 4, 0, 0, 4, 3, 0, 4, 4, 3, 4, 5, 4, 3, 4, 3, 3, 3, 4, 3, 3, 3, 5, 3, 5, 5, 3, 2, 5, 3, 3, 4, 5, 3, 3, 3, 3, 3, 3, 3, 3, 3, 3, 3, 3, 3, 3, 3, 3, 3, 0, 3, 0, 3, 3, 3, 3, 3, 3, 5, 0, 3, 0, 3, 4, 5, 4, 2, 0, 0, 3, 3, 3, 3, 4, 3, 1, 3, 3, 3, 4, 4, 3, 4, 4, 3, 3, 3, 3, 4, 3, 5, 3, 3, 3, 5, 3, 3, 3, 3, 3, 3, 4, 3, 3, 3, 2, 3, 4, 3, 3, 3, 0, 2, 6, 6, 6, 3, 3, 3, 3, 3, 4, 4, 3, 4, 3, 3, 2, 3, 3, 3, 3, 3, 3, 6, 4, 3, 3, 3, 3, 3, 3, 3, 3, 3, 3, 3, 3, 3, 1, 5, 3, 3, 3, 3, 3, 4, 3, 0, 3, 3, 3, 3, 0, 6, 3, 3, 0, 3, 3, 3, 2, 3, 3, 3, 3, 3, 3, 3, 3, 3, 3, 3, 0, 3, 3, 3, 3, 1, 3, 4, 3, 3, 3, 2, 5, 3, 3, 3, 4, 4, 5, 3, 2, 3, 4, 3, 3, 3, 3, 4, 3, 3, 3, 3, 5, 3, 3, 3, 2, 3, 3, 5, 3, 3, 3, 4, 3, 3, 3, 4, 3, 4, 3, 4, 6, 3, 3, 3, 3, 3, 3, 3, 3, 5, 3, 0, 3, 3, 0, 3, 5, 5, 3, 3, 3, 3, 3, 3, 3, 3, 3, 3, 3, 3, 4, 3, 3, 3, 3, 0, 3, 3, 3, 3, 3, 5, 3, 3, 3, 3, 3, 3, 3, 0, 3, 3, 5, 4, 4, 3, 3, 3, 3, 3, 3, 4, 3, 1, 0, 4, 3, 3, 4, 5, 3, 3, 3, 3, 3, 5, 3, 6, 3, 3, 2, 3, 3, 4, 3, 4, 5, 3, 3, 3, 3, 3, 3, 3, 3, 3, 3, 5, 5, 4, 2, 3, 3, 3, 5, 4, 3, 4, 5, 3, 3, 4, 6, 3, 4, 3, 3, 4, 3, 3, 3, 3, 0, 5, 3, 3, 5, 3, 5, 1, 4, 3, 2, 4, 5, 3, 5, 0, 3, 2, 3, 6, 3, 4, 3, 3, 1, 3, 3, 3, 3, 2, 3, 3, 3, 6, 3, 3, 4, 3, 3, 5, 5, 3, 3, 5, 3, 3, 3, 3, 3, 4, 6, 4, 4, 2, 5, 0, 4, 4, 5, 0, 4, 4, 4, 3, 4, 2, 2, 0, 4, 4, 4, 1, 4, 3, 5, 6, 4, 3, 4, 4, 0, 5, 4, 5, 4, 4, 5, 3, 3, 5, 5, 4, 5, 4, 4, 4, 5, 2, 0, 4, 3, 4, 3, 4, 3, 4, 4, 5, 5, 5, 5, 5, 4, 4, 3, 4, 4, 4, 4, 2, 4, 2, 0, 5, 5, 4, 3, 5, 4, 2, 4, 4, 0, 4, 4, 4, 2, 4, 4, 4, 5, 4, 4, 2, 4, 3, 4, 4, 4, 4, 4, 4, 3, 4, 4, 4, 5, 5, 5, 4, 4, 3, 5, 4, 5, 3, 4, 5, 4, 4, 0, 1, 4, 4, 5, 2, 4, 4, 5, 4, 4, 4, 6, 1, 0, 0, 5, 4, 4, 5, 6, 0, 4, 4, 4, 4, 5, 0, 4, 5, 4, 4, 1, 4, 3, 4, 5, 5, 2, 4, 4, 4, 5, 3, 3, 0, 4, 1, 4, 4, 4, 4, 3, 5, 5, 6, 4, 5, 4, 1, 5, 5, 4, 4, 2, 0, 4, 2, 4, 0, 5, 5, 4, 3, 4, 4, 4, 3, 4, 3, 5, 4, 5, 4, 5, 2, 5, 4, 3, 4, 4, 0, 4, 4, 5, 4, 4, 4, 6, 6, 4, 4, 3, 0, 4, 4, 6, 4, 5, 4, 4, 2, 4, 3, 3, 4, 3, 5, 4, 5, 0, 4, 4, 2, 4, 4, 4, 4, 5, 5, 5, 4, 4, 5, 4, 5, 6, 2, 1, 3, 4, 0, 5, 4, 4, 4, 4, 2, 6, 0, 5, 3, 4, 5, 4, 0, 4, 4, 0, 4, 4, 4, 3, 5, 4, 4, 4, 5, 1, 4, 4, 4, 4, 2, 4, 5, 4, 4, 4, 4, 3, 6, 4, 4, 4, 4, 4, 5, 4, 4, 4, 4, 5, 0, 3, 4, 3, 4, 5, 5, 6, 4, 6, 4, 0, 4, 4, 5, 4, 5, 4, 4, 4, 5, 4, 4, 5, 5, 4, 4, 4, 4, 2, 4, 5, 0, 5, 4, 5, 5, 4, 4, 1, 6, 5, 5, 2, 5, 5, 5, 3, 5, 5, 5, 5, 3, 5, 3, 5, 5, 3, 5, 0, 4, 3, 4, 3, 4, 4, 5, 5, 5, 5, 5, 5, 2, 0, 3, 0, 0, 2, 0, 5, 5, 5, 5, 5, 4, 5, 2, 5, 5, 1, 5, 5, 4, 4, 4, 0, 3, 6, 4, 5, 4, 4, 5, 4, 5, 5, 4, 5, 2, 4, 5, 4, 5, 5, 2, 5, 6, 4, 4, 4, 4, 5, 5, 2, 5, 5, 5, 0, 4, 4, 5, 5, 2, 5, 1, 4, 5, 5, 3, 5, 5, 3, 1, 3, 5, 1, 1, 5, 5, 3, 5, 2, 2, 4, 4, 4, 4, 4, 5, 4, 2, 4, 3, 0, 0, 2, 5, 5, 3, 5, 5, 6, 4, 5, 5, 5, 4, 4, 5, 4, 0, 4, 3, 5, 0, 5, 5, 4, 5, 5, 5, 2, 5, 0, 4, 2, 4, 5, 5, 5, 5, 5, 4, 5, 5, 5, 4, 5, 5, 2, 5, 0, 5, 4, 6, 0, 0, 0, 5, 5, 5, 4, 5, 5, 4, 5, 5, 4, 4, 4, 6, 4, 5, 4, 3, 5, 2, 0, 5, 4, 4, 4, 0, 2, 5, 4, 5, 2, 4, 5, 6, 4, 5, 3, 4, 5, 4, 4, 5, 4, 5, 4, 1, 2, 3, 4, 4, 5, 5, 5, 5, 2, 2, 5, 4, 4, 2, 0, 2, 5, 4, 4, 5, 5, 5, 4, 0, 3, 4, 4, 3, 5, 4, 2, 5, 5, 2, 0, 4, 4, 6, 3, 5, 4, 5, 1, 5, 1, 4, 5, 5, 2, 5, 5, 3, 5, 5, 5, 4, 0, 3, 5, 5, 5, 5, 2, 5, 2, 0, 6, 4, 2, 4, 2, 3, 5, 3, 4, 5, 4, 5, 4, 4, 0, 4, 4, 5, 5, 2, 5, 4, 5, 3, 1, 0, 4, 5, 5, 3, 4, 5, 5, 4, 0, 0, 0, 5, 2, 4, 5, 5, 4, 0, 0, 3, 2, 0, 5, 4, 5, 5, 4, 5, 4, 5, 2, 5, 4, 5, 4, 5, 3, 4, 0, 2, 4, 5, 4, 3, 2, 5, 4, 2, 6, 0, 3, 5, 3, 0, 0, 4, 5, 5, 3, 4, 2, 5, 5, 3, 4, 6, 5, 5, 0, 5, 1, 4, 4, 0, 2, 6, 4, 4, 0, 5, 4, 4, 5, 5, 5, 5, 6, 2, 2, 5, 5, 5, 2, 0, 2, 2, 2, 4, 0, 1, 4, 5, 5, 5, 3, 5, 0, 2, 3, 5, 5, 5, 5, 0, 6, 3, 2, 5, 5, 5, 5, 5, 4, 2, 0, 3, 4, 2, 5, 2, 3, 4, 3, 4, 5, 2, 6, 0, 5, 0, 5, 0, 5, 5, 3, 4, 4, 5, 0, 1, 3, 0, 2, 4, 5, 5, 5, 6, 5, 5, 2, 5, 4, 5, 0, 4, 4, 5, 5, 5, 3, 4, 0, 5, 4, 2, 3, 0, 5, 3, 0, 4, 4, 4, 0, 5, 5, 5, 4, 5, 3, 1, 5, 5, 5, 5, 0, 4, 5, 5, 5, 4, 5, 4, 5, 4, 5, 4, 4, 5, 5, 5, 5, 2, 4, 4, 4, 3, 3, 5, 2, 6, 4, 4, 2, 5, 2, 1, 5, 5, 5, 5, 5, 5, 5, 4, 5, 3, 2, 5, 4, 5, 4, 5, 4, 5, 4, 5, 4, 5, 5, 2, 2, 4, 6, 3, 6, 6, 1, 6, 6, 2, 6, 6, 6, 5, 6, 6, 4, 0, 6, 6, 4, 6, 6, 1, 6, 6, 4, 6, 6, 5, 6, 6, 6, 6, 6, 4, 3, 6, 4, 3, 6, 6, 2, 3, 6, 3, 6, 0, 6, 6, 6, 6, 4, 6, 6, 6, 2, 6, 6, 2, 6, 2, 4, 6, 6, 2, 2, 6, 6, 2, 4, 6, 6, 3, 6, 0, 5, 2, 0, 6, 6, 6, 6, 4, 2, 6, 6, 6, 6, 6, 6, 5, 6, 6, 6, 4, 6, 6, 6, 6, 6, 6, 6, 0, 4, 6, 2, 6, 6, 4, 6, 6, 6, 2, 6, 5, 6, 3, 6, 2, 5, 6, 6, 4, 6, 6, 6, 6, 6, 3, 6, 6, 0, 2, 5, 6, 6, 0, 3, 6, 6, 6, 2, 4, 6, 2, 6, 6, 6, 2, 6, 3, 6, 3, 6, 6, 6, 2, 3, 6, 6, 0, 2, 6, 4, 6, 6, 6, 6, 6, 5, 2, 2, 6, 6, 6, 6, 6, 6, 6, 4, 5, 6, 6, 6, 6, 6, 3, 6, 5, 4, 2, 6, 6, 6, 6, 6, 6, 5, 6, 6, 6, 6, 6, 6, 6, 6, 2, 6, 6, 6, 6, 6, 6, 6, 6, 1, 6, 6, 6, 4, 6, 1, 2, 2, 2, 6, 6, 6, 6, 6, 6, 5, 6, 6, 1, 2, 2, 3, 6, 6, 6, 5, 4, 2, 6, 6, 2, 6, 0, 2, 2, 2, 6, 6, 6, 6, 5, 2, 6, 0, 4, 5, 5, 2, 6, 6, 6, 0, 6, 6, 3, 3, 6, 3, 6, 6, 6, 6, 6, 6, 6, 6, 6, 2, 6, 6, 5, 4, 6, 6, 6, 0, 6, 6, 6, 6, 3, 6, 2, 6, 6, 6, 5, 6, 2, 2, 2, 6, 2, 5, 2, 2, 0, 6, 2, 5, 6, 2, 6, 6, 5, 6, 6, 6, 3, 6, 6, 6, 6, 6, 6, 6, 6, 6, 6, 2, 6, 2, 6, 6, 0, 2, 6, 6, 3, 6, 6, 6, 6, 6, 0, 2, 6, 0, 2, 6, 6, 6, 6, 6, 6, 4, 4, 6, 6, 6, 6, 6, 6, 6, 2, 6, 6, 6, 6, 5, 6, 3, 6, 6, 5, 6, 6, 6, 6, 6, 6, 6, 6, 3, 3, 6, 6, 4, 6, 6, 2, 5, 4, 6, 3, 6, 4, 6, 6, 6, 6, 6, 6, 2, 2, 6, 6, 6, 6, 2, 2, 6, 3, 4, 6, 6, 4, 6, 6, 6, 4, 0, 6, 2, 4, 6, 6, 6, 0, 6, 6, 3, 0, 6, 6, 5, 6, 6, 6, 6, 6, 2, 6, 6, 6, 6, 6, 6, 6, 6, 6, 2, 3, 6, 6, 6, 5, 6, 6, 6, 2, 6, 6, 4, 6, 6, 2, 6, 0, 6, 6, 0, 4, 4, 6, 6, 3, 6, 6, 6, 2, 3, 6, 6, 6, 5, 5, 6, 6, 6, 6, 6, 6, 6, 3, 6, 6, 4, 4, 6, 0, 6, 6, 6, 6, 0, 2, 4, 6, 5, 5, 6, 6, 6, 3, 6, 4, 2, 2, 6, 6, 6, 6, 5, 0, 2, 6, 2, 0, 6, 6, 6, 5, 6, 6, 6, 6, 2, 6, 6, 6, 5, 6, 6, 6, 0, 2, 6, 6, 6, 6, 6, 2, 6, 6, 6, 4, 6, 2, 5, 6, 6, 6, 6, 6, 6, 6, 6, 6, 6, 6, 6, 6, 6, 6, 6, 0, 2, 6, 6, 0, 6, 3, 6, 0, 6, 3, 6, 6, 6, 6, 6, 6, 6, 6, 6, 5, 6, 6, 6, 6, 6, 2, 5, 6, 6, 6, 2, 6, 3, 6, 2, 6, 2, 6, 6, 6, 6, 6, 6, 6, 6, 5, 6, 6, 3, 2, 6, 6, 0, 2, 4, 6, 2, 6, 2, 6, 6, 6, 2, 6, 6, 3, 2, 6, 6, 6, 6, 6, 5, 6, 6, 6, 6, 6, 6, 6, 6, 6, 6, 6, 6, 6, 6, 5, 0, 6, 6, 6, 6, 6, 3, 4, 0, 4, 2, 6, 6, 6, 4, 2, 2, 5, 2, 2, 4, 6, 6, 6, 6, 6, 6, 6, 6, 2, 6, 4, 6, 5, 0, 6, 6, 6, 5, 3, 2, 6, 4, 2, 6, 6, 2, 6, 2, 4, 0, 6, 2, 6, 6, 6, 4, 2, 6, 6, 6, 3, 4, 4, 2, 5, 6, 2, 6, 5, 6, 0, 2, 6, 6, 6, 5, 6, 6, 6, 6, 6, 6, 6, 6, 3, 6, 6, 6, 6, 5, 6, 6, 2, 6, 1, 6, 6, 6, 4, 6, 6, 6, 6, 6, 0, 2, 6, 2, 2, 6, 6, 6, 2, 2, 5, 6, 6, 4, 5, 2, 2, 6, 6, 6, 6, 2, 6, 6, 6, 6, 6, 5, 3, 6, 2, 6, 5, 2, 6, 6, 6, 6, 6, 5, 6, 4, 6, 4, 6, 6, 6, 0, 3, 6, 6, 6, 6]\n"
     ]
    }
   ],
   "source": [
    "y_predd = [np.argmax(y_pred[x]) for x in range (0, len(y_pred))]\n",
    "print(y_predd)"
   ]
  },
  {
   "cell_type": "markdown",
   "id": "57613cbd-9023-4d66-a656-60da379067b9",
   "metadata": {},
   "source": [
    "## Confusion Matrix"
   ]
  },
  {
   "cell_type": "code",
   "execution_count": 50,
   "id": "42e52ac5-f596-4bee-93f6-dfd8eca2bf94",
   "metadata": {},
   "outputs": [],
   "source": [
    "from sklearn.metrics import confusion_matrix, ConfusionMatrixDisplay\n",
    "cm = confusion_matrix (testLabel, y_predd)"
   ]
  },
  {
   "cell_type": "code",
   "execution_count": 51,
   "id": "805c92bf-90b4-498f-9d5d-f266d1b9a761",
   "metadata": {},
   "outputs": [
    {
     "data": {
      "image/png": "[encoded data removed]",
      "text/plain": [
       "<Figure size 640x480 with 2 Axes>"
      ]
     },
     "metadata": {},
     "output_type": "display_data"
    }
   ],
   "source": [
    "class_names = ['angry', 'disgust', 'fear', 'happy', 'neutral', 'sad', 'surprise']\n",
    "disp = ConfusionMatrixDisplay(confusion_matrix=cm, display_labels=class_names)\n",
    "disp.plot(cmap=plt.cm.Blues)\n",
    "plt.show()"
   ]
  },
  {
   "cell_type": "markdown",
   "id": "1d370f0b-f32b-4036-9b0c-a24877bf079f",
   "metadata": {},
   "source": [
    "## Accuracy Check"
   ]
  },
  {
   "cell_type": "code",
   "execution_count": 55,
   "id": "a96cf191-d002-466e-ac0b-f6d619e44da3",
   "metadata": {},
   "outputs": [],
   "source": [
    "from sklearn.metrics import accuracy_score"
   ]
  },
  {
   "cell_type": "code",
   "execution_count": 56,
   "id": "edfc9eeb-8f92-4638-9bb8-247200d953d8",
   "metadata": {},
   "outputs": [
    {
     "data": {
      "text/plain": [
       "0.46195270428471086"
      ]
     },
     "execution_count": 56,
     "metadata": {},
     "output_type": "execute_result"
    }
   ],
   "source": [
    "accuracy_score(y_predd, testLabel)"
   ]
  },
  {
   "cell_type": "code",
   "execution_count": null,
   "id": "b82ebc50-f972-41a2-b060-4102de9610b5",
   "metadata": {},
   "outputs": [],
   "source": []
  },
  {
   "cell_type": "markdown",
   "id": "94094509-1973-4514-8981-4b7ef2edbe37",
   "metadata": {},
   "source": [
    "## Saving Model"
   ]
  },
  {
   "cell_type": "code",
   "execution_count": 15,
   "id": "a9470925-cd8d-4e15-96bc-ecd87612440d",
   "metadata": {},
   "outputs": [
    {
     "name": "stderr",
     "output_type": "stream",
     "text": [
      "WARNING:absl:You are saving your model as an HDF5 file via `model.save()` or `keras.saving.save_model(model)`. This file format is considered legacy. We recommend using instead the native Keras format, e.g. `model.save('my_model.keras')` or `keras.saving.save_model(model, 'my_model.keras')`. \n"
     ]
    }
   ],
   "source": [
    "model.save(\"Face_Emotion2.h5\")"
   ]
  },
  {
   "cell_type": "code",
   "execution_count": null,
   "id": "77e99d06-d89e-487a-b203-6d0018da57d0",
   "metadata": {},
   "outputs": [],
   "source": []
  },
  {
   "cell_type": "markdown",
   "id": "ca1035ea-660c-4b69-a1b8-55697aa1c0f4",
   "metadata": {},
   "source": [
    "## Predictiong on single image"
   ]
  },
  {
   "cell_type": "code",
   "execution_count": 65,
   "id": "ed9e7a93-cf24-4d4e-a1de-af1dc22e45aa",
   "metadata": {},
   "outputs": [],
   "source": [
    "def predictEmotion (imagePath):\n",
    "    image = cv2.imread(imagePath)\n",
    "    image = cv2.cvtColor (image, cv2.COLOR_BGR2GRAY)\n",
    "    image = cv2.resize (image, (48, 48))\n",
    "    image = image.astype('float32')\n",
    "    image = image/255.0\n",
    "    image = np.reshape (image, (1, 48, 48, 1))\n",
    "    y_pred = model.predict (image)\n",
    "    \n",
    "    if np.argmax(y_pred) == 0:\n",
    "        return \"Angry\", np.max(y_pred)\n",
    "        \n",
    "    elif  np.argmax(y_pred) == 1:\n",
    "        return \"Disgust\", np.max(y_pred)\n",
    "\n",
    "    elif  np.argmax(y_pred) == 2:\n",
    "        return \"Fear\", np.max(y_pred)\n",
    "\n",
    "    elif  np.argmax(y_pred) == 3:\n",
    "        return \"Happy\", np.max(y_pred)\n",
    "\n",
    "    elif  np.argmax(y_pred) == 4:\n",
    "        return \"Neutral\", np.max(y_pred)\n",
    "\n",
    "    elif  np.argmax(y_pred) == 5:\n",
    "        return \"Sad\", np.max(y_pred)\n",
    "\n",
    "    elif  np.argmax(y_pred) == 6:\n",
    "        return \"Surprise\", np.max(y_pred)\n",
    "\n",
    "    \n",
    "    "
   ]
  },
  {
   "cell_type": "code",
   "execution_count": 66,
   "id": "1cdce869-0eb9-41a8-b5c3-f010b9f2707e",
   "metadata": {},
   "outputs": [
    {
     "name": "stdout",
     "output_type": "stream",
     "text": [
      "\u001b[1m1/1\u001b[0m \u001b[32m━━━━━━━━━━━━━━━━━━━━\u001b[0m\u001b[37m\u001b[0m \u001b[1m0s\u001b[0m 119ms/step\n"
     ]
    }
   ],
   "source": [
    "emotion, conf = predictEmotion ('image.jpeg')"
   ]
  },
  {
   "cell_type": "code",
   "execution_count": 68,
   "id": "bdbd4da6-6152-490c-9aeb-6c824b0d5696",
   "metadata": {},
   "outputs": [
    {
     "name": "stdout",
     "output_type": "stream",
     "text": [
      "Emotion is Sad, Confidence is 40.10828137397766%\n"
     ]
    }
   ],
   "source": [
    "print (f\"Emotion is {emotion}, Confidence is {conf*100}%\")"
   ]
  },
  {
   "cell_type": "code",
   "execution_count": null,
   "id": "23ba51ce-cc4b-4a8b-a99d-ab8836eecd0b",
   "metadata": {},
   "outputs": [],
   "source": []
  }
 ],
 "metadata": {
  "kernelspec": {
   "display_name": "Python 3 (ipykernel)",
   "language": "python",
   "name": "python3"
  },
  "language_info": {
   "codemirror_mode": {
    "name": "ipython",
    "version": 3
   },
   "file_extension": ".py",
   "mimetype": "text/x-python",
   "name": "python",
   "nbconvert_exporter": "python",
   "pygments_lexer": "ipython3",
   "version": "3.11.7"
  }
 },
 "nbformat": 4,
 "nbformat_minor": 5
}
